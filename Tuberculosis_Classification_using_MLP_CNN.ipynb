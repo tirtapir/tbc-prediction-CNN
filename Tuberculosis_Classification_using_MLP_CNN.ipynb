{
  "cells": [
    {
      "cell_type": "code",
      "execution_count": 29,
      "metadata": {
        "id": "-EezNb23FBMw"
      },
      "outputs": [],
      "source": [
        "import tensorflow as tf\n",
        "import pathlib\n",
        "import os\n",
        "from tensorflow.keras.preprocessing.image import ImageDataGenerator\n",
        "import numpy as np\n",
        "import matplotlib.pyplot as plt\n",
        "import matplotlib.image as mpimg\n",
        "import ipywidgets as widgets\n",
        "from IPython.display import display"
      ]
    },
    {
      "cell_type": "code",
      "execution_count": 8,
      "metadata": {
        "id": "5oW1eGEZEMi9"
      },
      "outputs": [],
      "source": [
        "# Mendefinisikan base dir path (path dari dir yang akan digunakan)\n",
        "base_dir = '/Users/tirtarumy/Documents/Data scientist porto/Tuberculosis Classification using MLP CNN/Data/TB'\n"
      ]
    },
    {
      "cell_type": "code",
      "execution_count": 9,
      "metadata": {
        "colab": {
          "base_uri": "https://localhost:8080/"
        },
        "id": "_kZwqF5YmmEQ",
        "outputId": "60ca3563-21bc-4bad-f2ee-f383bf0f283b"
      },
      "outputs": [
        {
          "data": {
            "text/plain": [
              "['.DS_Store', 'Positif', 'Normal']"
            ]
          },
          "execution_count": 9,
          "metadata": {},
          "output_type": "execute_result"
        }
      ],
      "source": [
        "# Periksa dir path\n",
        "os.listdir(base_dir)"
      ]
    },
    {
      "cell_type": "code",
      "execution_count": 10,
      "metadata": {
        "colab": {
          "base_uri": "https://localhost:8080/"
        },
        "id": "nPRKS6nfJMNF",
        "outputId": "8b4219f3-dac8-47d8-f7ff-1c8cc10881b7"
      },
      "outputs": [
        {
          "name": "stdout",
          "output_type": "stream",
          "text": [
            "Normal Dataset :  111\n",
            "Positif Dataset :  150\n"
          ]
        }
      ],
      "source": [
        "# Memeriksa jumlah file pada masing-masing dir\n",
        "print('Normal Dataset : ',len(os.listdir('/Users/tirtarumy/Documents/Data scientist porto/Tuberculosis Classification using MLP CNN/Data/TB/Normal')))\n",
        "print('Positif Dataset : ',len(os.listdir('/Users/tirtarumy/Documents/Data scientist porto/Tuberculosis Classification using MLP CNN/Data/TB/Positif')))"
      ]
    },
    {
      "cell_type": "code",
      "execution_count": 11,
      "metadata": {
        "id": "NlhP3iO3SZYc"
      },
      "outputs": [],
      "source": [
        "# Mendefinisikan path masing2 subdir dan menggabungkannya dg path base dir\n",
        "normal = os.path.join(base_dir,'Normal')\n",
        "positif = os.path.join(base_dir,'Positif')"
      ]
    },
    {
      "cell_type": "code",
      "execution_count": 12,
      "metadata": {
        "colab": {
          "base_uri": "https://localhost:8080/"
        },
        "id": "MqTCJcciSisU",
        "outputId": "4683d6bd-e0cc-46c8-d1bc-04aa63cdc769"
      },
      "outputs": [
        {
          "name": "stdout",
          "output_type": "stream",
          "text": [
            "normal dir : 111\n",
            "positif dir : 150\n"
          ]
        }
      ],
      "source": [
        "train_normal = os.listdir(normal)\n",
        "train_positif = os.listdir(positif)\n",
        "\n",
        "print('normal dir :',len(train_normal))\n",
        "print('positif dir :',len(train_positif))"
      ]
    },
    {
      "cell_type": "code",
      "execution_count": 14,
      "metadata": {
        "id": "qh-RiYs2-M1S"
      },
      "outputs": [],
      "source": [
        "# Prepro\n",
        "train_dataGen = ImageDataGenerator(\n",
        "     validation_split = 0.2,\n",
        "     rescale=1./255,\n",
        "     rotation_range=5,\n",
        "     horizontal_flip=True,\n",
        "     vertical_flip=True,\n",
        "    #  shear_range = 0.2,\n",
        "     fill_mode = 'nearest'\n",
        ")\n"
      ]
    },
    {
      "cell_type": "code",
      "execution_count": 17,
      "metadata": {
        "colab": {
          "base_uri": "https://localhost:8080/"
        },
        "id": "-iCAw4aT-_iG",
        "outputId": "82201dbb-dcc1-47bd-c937-322cb0b9e139"
      },
      "outputs": [
        {
          "name": "stdout",
          "output_type": "stream",
          "text": [
            "Found 208 images belonging to 2 classes.\n",
            "Found 52 images belonging to 2 classes.\n"
          ]
        }
      ],
      "source": [
        "# train data and take path to dir & generate batch of data\n",
        "\n",
        "train_generator = train_dataGen.flow_from_directory(\n",
        "        base_dir, #dir yang dilatih\n",
        "        target_size=(150, 150), # mengubah resolusi seluruh gambar menjadi 150x150 piksel\n",
        "        shuffle=True,\n",
        "        batch_size=8,\n",
        "        subset='training',\n",
        "        class_mode='binary') # karena ini merupakan masalah klasifikasi 2 kelas, gunakan class_mode = 'binary'\n",
        "\n",
        "validation_generator = train_dataGen.flow_from_directory(\n",
        "        base_dir,\n",
        "        target_size=(150, 150),\n",
        "        shuffle=True,\n",
        "        batch_size=8,\n",
        "        subset='validation',\n",
        "        class_mode='binary')"
      ]
    },
    {
      "cell_type": "code",
      "execution_count": 18,
      "metadata": {
        "id": "1UscSLVyAJ2m"
      },
      "outputs": [
        {
          "name": "stderr",
          "output_type": "stream",
          "text": [
            "/Users/tirtarumy/anaconda3/lib/python3.11/site-packages/keras/src/layers/convolutional/base_conv.py:107: UserWarning: Do not pass an `input_shape`/`input_dim` argument to a layer. When using Sequential models, prefer using an `Input(shape)` object as the first layer in the model instead.\n",
            "  super().__init__(activity_regularizer=activity_regularizer, **kwargs)\n"
          ]
        }
      ],
      "source": [
        "# Memabangun model CNN\n",
        "\n",
        "model = tf.keras.models.Sequential([\n",
        "    # Lapisan konvolusi pertama\n",
        "    tf.keras.layers.Conv2D(32, (3,3), activation='relu', input_shape=(150, 150, 3)),\n",
        "    tf.keras.layers.MaxPooling2D(2, 2),\n",
        "    # Lapisan konvolusi kedua\n",
        "    tf.keras.layers.Conv2D(64, (3,3), activation='relu'),\n",
        "    tf.keras.layers.MaxPooling2D(2,2),\n",
        "    # Lapisan konvolusi ketiga\n",
        "    tf.keras.layers.Conv2D(128, (3,3), activation='relu'),\n",
        "    tf.keras.layers.MaxPooling2D(2,2),\n",
        "    # Lapisan konvolusi keempat\n",
        "    tf.keras.layers.Conv2D(256, (3,3), activation='relu'),\n",
        "    tf.keras.layers.MaxPooling2D(2,2),\n",
        "    # Lapisan konvolusi kelima\n",
        "    tf.keras.layers.Conv2D(512, (3,3), activation='relu'),\n",
        "    tf.keras.layers.MaxPooling2D(2,2),\n",
        "\n",
        "    tf.keras.layers.Dropout(0.2),\n",
        "    tf.keras.layers.Flatten(),\n",
        "    tf.keras.layers.Dense(512, activation='relu'),\n",
        "    tf.keras.layers.Dense(1, activation='sigmoid')\n",
        "])"
      ]
    },
    {
      "cell_type": "code",
      "execution_count": 19,
      "metadata": {
        "colab": {
          "base_uri": "https://localhost:8080/"
        },
        "id": "aTdjFbbiBCRO",
        "outputId": "c3a2e436-3b0f-4262-d1b8-532ded357604"
      },
      "outputs": [
        {
          "data": {
            "text/html": [
              "<pre style=\"white-space:pre;overflow-x:auto;line-height:normal;font-family:Menlo,'DejaVu Sans Mono',consolas,'Courier New',monospace\"><span style=\"font-weight: bold\">Model: \"sequential\"</span>\n",
              "</pre>\n"
            ],
            "text/plain": [
              "\u001b[1mModel: \"sequential\"\u001b[0m\n"
            ]
          },
          "metadata": {},
          "output_type": "display_data"
        },
        {
          "data": {
            "text/html": [
              "<pre style=\"white-space:pre;overflow-x:auto;line-height:normal;font-family:Menlo,'DejaVu Sans Mono',consolas,'Courier New',monospace\">┏━━━━━━━━━━━━━━━━━━━━━━━━━━━━━━━━━┳━━━━━━━━━━━━━━━━━━━━━━━━┳━━━━━━━━━━━━━━━┓\n",
              "┃<span style=\"font-weight: bold\"> Layer (type)                    </span>┃<span style=\"font-weight: bold\"> Output Shape           </span>┃<span style=\"font-weight: bold\">       Param # </span>┃\n",
              "┡━━━━━━━━━━━━━━━━━━━━━━━━━━━━━━━━━╇━━━━━━━━━━━━━━━━━━━━━━━━╇━━━━━━━━━━━━━━━┩\n",
              "│ conv2d (<span style=\"color: #0087ff; text-decoration-color: #0087ff\">Conv2D</span>)                 │ (<span style=\"color: #00d7ff; text-decoration-color: #00d7ff\">None</span>, <span style=\"color: #00af00; text-decoration-color: #00af00\">148</span>, <span style=\"color: #00af00; text-decoration-color: #00af00\">148</span>, <span style=\"color: #00af00; text-decoration-color: #00af00\">32</span>)   │           <span style=\"color: #00af00; text-decoration-color: #00af00\">896</span> │\n",
              "├─────────────────────────────────┼────────────────────────┼───────────────┤\n",
              "│ max_pooling2d (<span style=\"color: #0087ff; text-decoration-color: #0087ff\">MaxPooling2D</span>)    │ (<span style=\"color: #00d7ff; text-decoration-color: #00d7ff\">None</span>, <span style=\"color: #00af00; text-decoration-color: #00af00\">74</span>, <span style=\"color: #00af00; text-decoration-color: #00af00\">74</span>, <span style=\"color: #00af00; text-decoration-color: #00af00\">32</span>)     │             <span style=\"color: #00af00; text-decoration-color: #00af00\">0</span> │\n",
              "├─────────────────────────────────┼────────────────────────┼───────────────┤\n",
              "│ conv2d_1 (<span style=\"color: #0087ff; text-decoration-color: #0087ff\">Conv2D</span>)               │ (<span style=\"color: #00d7ff; text-decoration-color: #00d7ff\">None</span>, <span style=\"color: #00af00; text-decoration-color: #00af00\">72</span>, <span style=\"color: #00af00; text-decoration-color: #00af00\">72</span>, <span style=\"color: #00af00; text-decoration-color: #00af00\">64</span>)     │        <span style=\"color: #00af00; text-decoration-color: #00af00\">18,496</span> │\n",
              "├─────────────────────────────────┼────────────────────────┼───────────────┤\n",
              "│ max_pooling2d_1 (<span style=\"color: #0087ff; text-decoration-color: #0087ff\">MaxPooling2D</span>)  │ (<span style=\"color: #00d7ff; text-decoration-color: #00d7ff\">None</span>, <span style=\"color: #00af00; text-decoration-color: #00af00\">36</span>, <span style=\"color: #00af00; text-decoration-color: #00af00\">36</span>, <span style=\"color: #00af00; text-decoration-color: #00af00\">64</span>)     │             <span style=\"color: #00af00; text-decoration-color: #00af00\">0</span> │\n",
              "├─────────────────────────────────┼────────────────────────┼───────────────┤\n",
              "│ conv2d_2 (<span style=\"color: #0087ff; text-decoration-color: #0087ff\">Conv2D</span>)               │ (<span style=\"color: #00d7ff; text-decoration-color: #00d7ff\">None</span>, <span style=\"color: #00af00; text-decoration-color: #00af00\">34</span>, <span style=\"color: #00af00; text-decoration-color: #00af00\">34</span>, <span style=\"color: #00af00; text-decoration-color: #00af00\">128</span>)    │        <span style=\"color: #00af00; text-decoration-color: #00af00\">73,856</span> │\n",
              "├─────────────────────────────────┼────────────────────────┼───────────────┤\n",
              "│ max_pooling2d_2 (<span style=\"color: #0087ff; text-decoration-color: #0087ff\">MaxPooling2D</span>)  │ (<span style=\"color: #00d7ff; text-decoration-color: #00d7ff\">None</span>, <span style=\"color: #00af00; text-decoration-color: #00af00\">17</span>, <span style=\"color: #00af00; text-decoration-color: #00af00\">17</span>, <span style=\"color: #00af00; text-decoration-color: #00af00\">128</span>)    │             <span style=\"color: #00af00; text-decoration-color: #00af00\">0</span> │\n",
              "├─────────────────────────────────┼────────────────────────┼───────────────┤\n",
              "│ conv2d_3 (<span style=\"color: #0087ff; text-decoration-color: #0087ff\">Conv2D</span>)               │ (<span style=\"color: #00d7ff; text-decoration-color: #00d7ff\">None</span>, <span style=\"color: #00af00; text-decoration-color: #00af00\">15</span>, <span style=\"color: #00af00; text-decoration-color: #00af00\">15</span>, <span style=\"color: #00af00; text-decoration-color: #00af00\">256</span>)    │       <span style=\"color: #00af00; text-decoration-color: #00af00\">295,168</span> │\n",
              "├─────────────────────────────────┼────────────────────────┼───────────────┤\n",
              "│ max_pooling2d_3 (<span style=\"color: #0087ff; text-decoration-color: #0087ff\">MaxPooling2D</span>)  │ (<span style=\"color: #00d7ff; text-decoration-color: #00d7ff\">None</span>, <span style=\"color: #00af00; text-decoration-color: #00af00\">7</span>, <span style=\"color: #00af00; text-decoration-color: #00af00\">7</span>, <span style=\"color: #00af00; text-decoration-color: #00af00\">256</span>)      │             <span style=\"color: #00af00; text-decoration-color: #00af00\">0</span> │\n",
              "├─────────────────────────────────┼────────────────────────┼───────────────┤\n",
              "│ conv2d_4 (<span style=\"color: #0087ff; text-decoration-color: #0087ff\">Conv2D</span>)               │ (<span style=\"color: #00d7ff; text-decoration-color: #00d7ff\">None</span>, <span style=\"color: #00af00; text-decoration-color: #00af00\">5</span>, <span style=\"color: #00af00; text-decoration-color: #00af00\">5</span>, <span style=\"color: #00af00; text-decoration-color: #00af00\">512</span>)      │     <span style=\"color: #00af00; text-decoration-color: #00af00\">1,180,160</span> │\n",
              "├─────────────────────────────────┼────────────────────────┼───────────────┤\n",
              "│ max_pooling2d_4 (<span style=\"color: #0087ff; text-decoration-color: #0087ff\">MaxPooling2D</span>)  │ (<span style=\"color: #00d7ff; text-decoration-color: #00d7ff\">None</span>, <span style=\"color: #00af00; text-decoration-color: #00af00\">2</span>, <span style=\"color: #00af00; text-decoration-color: #00af00\">2</span>, <span style=\"color: #00af00; text-decoration-color: #00af00\">512</span>)      │             <span style=\"color: #00af00; text-decoration-color: #00af00\">0</span> │\n",
              "├─────────────────────────────────┼────────────────────────┼───────────────┤\n",
              "│ dropout (<span style=\"color: #0087ff; text-decoration-color: #0087ff\">Dropout</span>)               │ (<span style=\"color: #00d7ff; text-decoration-color: #00d7ff\">None</span>, <span style=\"color: #00af00; text-decoration-color: #00af00\">2</span>, <span style=\"color: #00af00; text-decoration-color: #00af00\">2</span>, <span style=\"color: #00af00; text-decoration-color: #00af00\">512</span>)      │             <span style=\"color: #00af00; text-decoration-color: #00af00\">0</span> │\n",
              "├─────────────────────────────────┼────────────────────────┼───────────────┤\n",
              "│ flatten (<span style=\"color: #0087ff; text-decoration-color: #0087ff\">Flatten</span>)               │ (<span style=\"color: #00d7ff; text-decoration-color: #00d7ff\">None</span>, <span style=\"color: #00af00; text-decoration-color: #00af00\">2048</span>)           │             <span style=\"color: #00af00; text-decoration-color: #00af00\">0</span> │\n",
              "├─────────────────────────────────┼────────────────────────┼───────────────┤\n",
              "│ dense (<span style=\"color: #0087ff; text-decoration-color: #0087ff\">Dense</span>)                   │ (<span style=\"color: #00d7ff; text-decoration-color: #00d7ff\">None</span>, <span style=\"color: #00af00; text-decoration-color: #00af00\">512</span>)            │     <span style=\"color: #00af00; text-decoration-color: #00af00\">1,049,088</span> │\n",
              "├─────────────────────────────────┼────────────────────────┼───────────────┤\n",
              "│ dense_1 (<span style=\"color: #0087ff; text-decoration-color: #0087ff\">Dense</span>)                 │ (<span style=\"color: #00d7ff; text-decoration-color: #00d7ff\">None</span>, <span style=\"color: #00af00; text-decoration-color: #00af00\">1</span>)              │           <span style=\"color: #00af00; text-decoration-color: #00af00\">513</span> │\n",
              "└─────────────────────────────────┴────────────────────────┴───────────────┘\n",
              "</pre>\n"
            ],
            "text/plain": [
              "┏━━━━━━━━━━━━━━━━━━━━━━━━━━━━━━━━━┳━━━━━━━━━━━━━━━━━━━━━━━━┳━━━━━━━━━━━━━━━┓\n",
              "┃\u001b[1m \u001b[0m\u001b[1mLayer (type)                   \u001b[0m\u001b[1m \u001b[0m┃\u001b[1m \u001b[0m\u001b[1mOutput Shape          \u001b[0m\u001b[1m \u001b[0m┃\u001b[1m \u001b[0m\u001b[1m      Param #\u001b[0m\u001b[1m \u001b[0m┃\n",
              "┡━━━━━━━━━━━━━━━━━━━━━━━━━━━━━━━━━╇━━━━━━━━━━━━━━━━━━━━━━━━╇━━━━━━━━━━━━━━━┩\n",
              "│ conv2d (\u001b[38;5;33mConv2D\u001b[0m)                 │ (\u001b[38;5;45mNone\u001b[0m, \u001b[38;5;34m148\u001b[0m, \u001b[38;5;34m148\u001b[0m, \u001b[38;5;34m32\u001b[0m)   │           \u001b[38;5;34m896\u001b[0m │\n",
              "├─────────────────────────────────┼────────────────────────┼───────────────┤\n",
              "│ max_pooling2d (\u001b[38;5;33mMaxPooling2D\u001b[0m)    │ (\u001b[38;5;45mNone\u001b[0m, \u001b[38;5;34m74\u001b[0m, \u001b[38;5;34m74\u001b[0m, \u001b[38;5;34m32\u001b[0m)     │             \u001b[38;5;34m0\u001b[0m │\n",
              "├─────────────────────────────────┼────────────────────────┼───────────────┤\n",
              "│ conv2d_1 (\u001b[38;5;33mConv2D\u001b[0m)               │ (\u001b[38;5;45mNone\u001b[0m, \u001b[38;5;34m72\u001b[0m, \u001b[38;5;34m72\u001b[0m, \u001b[38;5;34m64\u001b[0m)     │        \u001b[38;5;34m18,496\u001b[0m │\n",
              "├─────────────────────────────────┼────────────────────────┼───────────────┤\n",
              "│ max_pooling2d_1 (\u001b[38;5;33mMaxPooling2D\u001b[0m)  │ (\u001b[38;5;45mNone\u001b[0m, \u001b[38;5;34m36\u001b[0m, \u001b[38;5;34m36\u001b[0m, \u001b[38;5;34m64\u001b[0m)     │             \u001b[38;5;34m0\u001b[0m │\n",
              "├─────────────────────────────────┼────────────────────────┼───────────────┤\n",
              "│ conv2d_2 (\u001b[38;5;33mConv2D\u001b[0m)               │ (\u001b[38;5;45mNone\u001b[0m, \u001b[38;5;34m34\u001b[0m, \u001b[38;5;34m34\u001b[0m, \u001b[38;5;34m128\u001b[0m)    │        \u001b[38;5;34m73,856\u001b[0m │\n",
              "├─────────────────────────────────┼────────────────────────┼───────────────┤\n",
              "│ max_pooling2d_2 (\u001b[38;5;33mMaxPooling2D\u001b[0m)  │ (\u001b[38;5;45mNone\u001b[0m, \u001b[38;5;34m17\u001b[0m, \u001b[38;5;34m17\u001b[0m, \u001b[38;5;34m128\u001b[0m)    │             \u001b[38;5;34m0\u001b[0m │\n",
              "├─────────────────────────────────┼────────────────────────┼───────────────┤\n",
              "│ conv2d_3 (\u001b[38;5;33mConv2D\u001b[0m)               │ (\u001b[38;5;45mNone\u001b[0m, \u001b[38;5;34m15\u001b[0m, \u001b[38;5;34m15\u001b[0m, \u001b[38;5;34m256\u001b[0m)    │       \u001b[38;5;34m295,168\u001b[0m │\n",
              "├─────────────────────────────────┼────────────────────────┼───────────────┤\n",
              "│ max_pooling2d_3 (\u001b[38;5;33mMaxPooling2D\u001b[0m)  │ (\u001b[38;5;45mNone\u001b[0m, \u001b[38;5;34m7\u001b[0m, \u001b[38;5;34m7\u001b[0m, \u001b[38;5;34m256\u001b[0m)      │             \u001b[38;5;34m0\u001b[0m │\n",
              "├─────────────────────────────────┼────────────────────────┼───────────────┤\n",
              "│ conv2d_4 (\u001b[38;5;33mConv2D\u001b[0m)               │ (\u001b[38;5;45mNone\u001b[0m, \u001b[38;5;34m5\u001b[0m, \u001b[38;5;34m5\u001b[0m, \u001b[38;5;34m512\u001b[0m)      │     \u001b[38;5;34m1,180,160\u001b[0m │\n",
              "├─────────────────────────────────┼────────────────────────┼───────────────┤\n",
              "│ max_pooling2d_4 (\u001b[38;5;33mMaxPooling2D\u001b[0m)  │ (\u001b[38;5;45mNone\u001b[0m, \u001b[38;5;34m2\u001b[0m, \u001b[38;5;34m2\u001b[0m, \u001b[38;5;34m512\u001b[0m)      │             \u001b[38;5;34m0\u001b[0m │\n",
              "├─────────────────────────────────┼────────────────────────┼───────────────┤\n",
              "│ dropout (\u001b[38;5;33mDropout\u001b[0m)               │ (\u001b[38;5;45mNone\u001b[0m, \u001b[38;5;34m2\u001b[0m, \u001b[38;5;34m2\u001b[0m, \u001b[38;5;34m512\u001b[0m)      │             \u001b[38;5;34m0\u001b[0m │\n",
              "├─────────────────────────────────┼────────────────────────┼───────────────┤\n",
              "│ flatten (\u001b[38;5;33mFlatten\u001b[0m)               │ (\u001b[38;5;45mNone\u001b[0m, \u001b[38;5;34m2048\u001b[0m)           │             \u001b[38;5;34m0\u001b[0m │\n",
              "├─────────────────────────────────┼────────────────────────┼───────────────┤\n",
              "│ dense (\u001b[38;5;33mDense\u001b[0m)                   │ (\u001b[38;5;45mNone\u001b[0m, \u001b[38;5;34m512\u001b[0m)            │     \u001b[38;5;34m1,049,088\u001b[0m │\n",
              "├─────────────────────────────────┼────────────────────────┼───────────────┤\n",
              "│ dense_1 (\u001b[38;5;33mDense\u001b[0m)                 │ (\u001b[38;5;45mNone\u001b[0m, \u001b[38;5;34m1\u001b[0m)              │           \u001b[38;5;34m513\u001b[0m │\n",
              "└─────────────────────────────────┴────────────────────────┴───────────────┘\n"
            ]
          },
          "metadata": {},
          "output_type": "display_data"
        },
        {
          "data": {
            "text/html": [
              "<pre style=\"white-space:pre;overflow-x:auto;line-height:normal;font-family:Menlo,'DejaVu Sans Mono',consolas,'Courier New',monospace\"><span style=\"font-weight: bold\"> Total params: </span><span style=\"color: #00af00; text-decoration-color: #00af00\">2,618,177</span> (9.99 MB)\n",
              "</pre>\n"
            ],
            "text/plain": [
              "\u001b[1m Total params: \u001b[0m\u001b[38;5;34m2,618,177\u001b[0m (9.99 MB)\n"
            ]
          },
          "metadata": {},
          "output_type": "display_data"
        },
        {
          "data": {
            "text/html": [
              "<pre style=\"white-space:pre;overflow-x:auto;line-height:normal;font-family:Menlo,'DejaVu Sans Mono',consolas,'Courier New',monospace\"><span style=\"font-weight: bold\"> Trainable params: </span><span style=\"color: #00af00; text-decoration-color: #00af00\">2,618,177</span> (9.99 MB)\n",
              "</pre>\n"
            ],
            "text/plain": [
              "\u001b[1m Trainable params: \u001b[0m\u001b[38;5;34m2,618,177\u001b[0m (9.99 MB)\n"
            ]
          },
          "metadata": {},
          "output_type": "display_data"
        },
        {
          "data": {
            "text/html": [
              "<pre style=\"white-space:pre;overflow-x:auto;line-height:normal;font-family:Menlo,'DejaVu Sans Mono',consolas,'Courier New',monospace\"><span style=\"font-weight: bold\"> Non-trainable params: </span><span style=\"color: #00af00; text-decoration-color: #00af00\">0</span> (0.00 B)\n",
              "</pre>\n"
            ],
            "text/plain": [
              "\u001b[1m Non-trainable params: \u001b[0m\u001b[38;5;34m0\u001b[0m (0.00 B)\n"
            ]
          },
          "metadata": {},
          "output_type": "display_data"
        }
      ],
      "source": [
        "model.summary()"
      ]
    },
    {
      "cell_type": "code",
      "execution_count": 20,
      "metadata": {
        "id": "4HL820UTBHQM"
      },
      "outputs": [],
      "source": [
        "# compile model dengan 'adam' optimizer loss function 'binary_crossentropy'\n",
        "model.compile(optimizer='adam',\n",
        "              loss='binary_crossentropy',\n",
        "              metrics=['accuracy'])"
      ]
    },
    {
      "cell_type": "code",
      "execution_count": 21,
      "metadata": {
        "id": "dUsSK09-zgGR"
      },
      "outputs": [],
      "source": [
        "# Early stopping using callback to get accuracy\n",
        "from tensorflow.keras.callbacks import Callback\n",
        "\n",
        "class my_callback(tf.keras.callbacks.Callback) :\n",
        "  def on_epoch_end(self,epoch,log=None) :\n",
        "    if log.get('accuracy') > 0.98 :\n",
        "      print('\\nfor epoch',epoch,\n",
        "            '\\nAccuracy has reach %2.2f%%' %(log['accuracy']*100),\n",
        "            'training has been stopped')\n",
        "      self.model.stop_training=True\n"
      ]
    },
    {
      "cell_type": "code",
      "execution_count": 22,
      "metadata": {
        "colab": {
          "base_uri": "https://localhost:8080/"
        },
        "id": "JcOmCZzM1g-V",
        "outputId": "cae32562-4cc3-4057-d9e3-59e80bb33617"
      },
      "outputs": [
        {
          "name": "stdout",
          "output_type": "stream",
          "text": [
            "Epoch 1/50\n"
          ]
        },
        {
          "name": "stderr",
          "output_type": "stream",
          "text": [
            "/Users/tirtarumy/anaconda3/lib/python3.11/site-packages/keras/src/trainers/data_adapters/py_dataset_adapter.py:121: UserWarning: Your `PyDataset` class should call `super().__init__(**kwargs)` in its constructor. `**kwargs` can include `workers`, `use_multiprocessing`, `max_queue_size`. Do not pass these arguments to `fit()`, as they will be ignored.\n",
            "  self._warn_if_super_not_called()\n"
          ]
        },
        {
          "name": "stdout",
          "output_type": "stream",
          "text": [
            "7/7 - 9s - 1s/step - accuracy: 0.3846 - loss: 0.8160 - val_accuracy: 0.4231 - val_loss: 0.6943\n",
            "Epoch 2/50\n",
            "7/7 - 2s - 303ms/step - accuracy: 0.4231 - loss: 0.6992 - val_accuracy: 0.4231 - val_loss: 0.6918\n",
            "Epoch 3/50\n",
            "7/7 - 2s - 303ms/step - accuracy: 0.5769 - loss: 0.6904 - val_accuracy: 0.6731 - val_loss: 0.6790\n",
            "Epoch 4/50\n",
            "7/7 - 2s - 303ms/step - accuracy: 0.6731 - loss: 0.6622 - val_accuracy: 0.8462 - val_loss: 0.6054\n",
            "Epoch 5/50\n",
            "7/7 - 2s - 305ms/step - accuracy: 0.8846 - loss: 0.4735 - val_accuracy: 0.8654 - val_loss: 0.5135\n",
            "Epoch 6/50\n",
            "7/7 - 2s - 303ms/step - accuracy: 0.8846 - loss: 0.3417 - val_accuracy: 0.6154 - val_loss: 0.9225\n",
            "Epoch 7/50\n",
            "7/7 - 2s - 304ms/step - accuracy: 0.8269 - loss: 0.3841 - val_accuracy: 0.7500 - val_loss: 0.4382\n",
            "Epoch 8/50\n",
            "7/7 - 2s - 299ms/step - accuracy: 0.8269 - loss: 0.4188 - val_accuracy: 0.8846 - val_loss: 0.3797\n",
            "Epoch 9/50\n",
            "7/7 - 2s - 302ms/step - accuracy: 0.8654 - loss: 0.4116 - val_accuracy: 0.8654 - val_loss: 0.4256\n",
            "Epoch 10/50\n",
            "7/7 - 2s - 307ms/step - accuracy: 0.8654 - loss: 0.4137 - val_accuracy: 0.9231 - val_loss: 0.3404\n",
            "Epoch 11/50\n",
            "7/7 - 2s - 306ms/step - accuracy: 0.8846 - loss: 0.3372 - val_accuracy: 0.8654 - val_loss: 0.3073\n",
            "Epoch 12/50\n",
            "7/7 - 2s - 308ms/step - accuracy: 0.8654 - loss: 0.3153 - val_accuracy: 0.8654 - val_loss: 0.2735\n",
            "Epoch 13/50\n",
            "7/7 - 2s - 305ms/step - accuracy: 0.9231 - loss: 0.2223 - val_accuracy: 0.9423 - val_loss: 0.1559\n",
            "Epoch 14/50\n",
            "7/7 - 2s - 300ms/step - accuracy: 0.8846 - loss: 0.3339 - val_accuracy: 0.8654 - val_loss: 0.2932\n",
            "Epoch 15/50\n",
            "7/7 - 2s - 299ms/step - accuracy: 0.8654 - loss: 0.2759 - val_accuracy: 0.9231 - val_loss: 0.1893\n",
            "Epoch 16/50\n",
            "7/7 - 2s - 300ms/step - accuracy: 0.9423 - loss: 0.1305 - val_accuracy: 0.9423 - val_loss: 0.1170\n",
            "Epoch 17/50\n",
            "7/7 - 2s - 310ms/step - accuracy: 0.8654 - loss: 0.8657 - val_accuracy: 0.9231 - val_loss: 0.1582\n",
            "Epoch 18/50\n",
            "7/7 - 2s - 310ms/step - accuracy: 0.8462 - loss: 0.6042 - val_accuracy: 0.7500 - val_loss: 0.5128\n",
            "Epoch 19/50\n",
            "7/7 - 2s - 307ms/step - accuracy: 0.7500 - loss: 0.5037 - val_accuracy: 0.7500 - val_loss: 0.4562\n",
            "Epoch 20/50\n",
            "7/7 - 2s - 306ms/step - accuracy: 0.7500 - loss: 0.4533 - val_accuracy: 0.7500 - val_loss: 0.3769\n",
            "Epoch 21/50\n",
            "7/7 - 2s - 302ms/step - accuracy: 0.8269 - loss: 0.3336 - val_accuracy: 0.8846 - val_loss: 0.2853\n",
            "Epoch 22/50\n",
            "7/7 - 2s - 303ms/step - accuracy: 0.8269 - loss: 0.3106 - val_accuracy: 0.8846 - val_loss: 0.3428\n",
            "Epoch 23/50\n",
            "7/7 - 2s - 314ms/step - accuracy: 0.8846 - loss: 0.3622 - val_accuracy: 0.9038 - val_loss: 0.2376\n",
            "Epoch 24/50\n",
            "7/7 - 2s - 304ms/step - accuracy: 0.8846 - loss: 0.3053 - val_accuracy: 0.9038 - val_loss: 0.2471\n",
            "Epoch 25/50\n",
            "7/7 - 2s - 304ms/step - accuracy: 0.9231 - loss: 0.2231 - val_accuracy: 0.9038 - val_loss: 0.2365\n",
            "Epoch 26/50\n",
            "7/7 - 2s - 303ms/step - accuracy: 0.8654 - loss: 0.4214 - val_accuracy: 0.9038 - val_loss: 0.2217\n",
            "Epoch 27/50\n",
            "7/7 - 2s - 307ms/step - accuracy: 0.9038 - loss: 0.2647 - val_accuracy: 0.9038 - val_loss: 0.2605\n",
            "Epoch 28/50\n",
            "7/7 - 2s - 333ms/step - accuracy: 0.8846 - loss: 0.2353 - val_accuracy: 0.9231 - val_loss: 0.2183\n",
            "Epoch 29/50\n",
            "7/7 - 2s - 310ms/step - accuracy: 0.9038 - loss: 0.2404 - val_accuracy: 0.8269 - val_loss: 0.3331\n",
            "Epoch 30/50\n",
            "7/7 - 2s - 311ms/step - accuracy: 0.8654 - loss: 0.3342 - val_accuracy: 0.8654 - val_loss: 0.4549\n",
            "Epoch 31/50\n",
            "7/7 - 2s - 334ms/step - accuracy: 0.9038 - loss: 0.4097 - val_accuracy: 0.9231 - val_loss: 0.2337\n",
            "Epoch 32/50\n",
            "7/7 - 2s - 307ms/step - accuracy: 0.9038 - loss: 0.2298 - val_accuracy: 0.9038 - val_loss: 0.1912\n",
            "Epoch 33/50\n",
            "7/7 - 2s - 302ms/step - accuracy: 0.9231 - loss: 0.1928 - val_accuracy: 0.9231 - val_loss: 0.1755\n",
            "Epoch 34/50\n",
            "7/7 - 2s - 300ms/step - accuracy: 0.8846 - loss: 0.2108 - val_accuracy: 0.9231 - val_loss: 0.1769\n",
            "Epoch 35/50\n",
            "7/7 - 2s - 301ms/step - accuracy: 0.9231 - loss: 0.1669 - val_accuracy: 0.9231 - val_loss: 0.1375\n",
            "Epoch 36/50\n",
            "7/7 - 2s - 301ms/step - accuracy: 0.9231 - loss: 0.1499 - val_accuracy: 0.9423 - val_loss: 0.1003\n",
            "Epoch 37/50\n",
            "7/7 - 2s - 304ms/step - accuracy: 0.9423 - loss: 0.1076 - val_accuracy: 0.9808 - val_loss: 0.0759\n",
            "Epoch 38/50\n",
            "7/7 - 2s - 299ms/step - accuracy: 0.9423 - loss: 0.0855 - val_accuracy: 0.9808 - val_loss: 0.0658\n",
            "Epoch 39/50\n",
            "7/7 - 2s - 301ms/step - accuracy: 0.9038 - loss: 0.2965 - val_accuracy: 0.8462 - val_loss: 0.3494\n",
            "Epoch 40/50\n",
            "7/7 - 2s - 301ms/step - accuracy: 0.9423 - loss: 0.3978 - val_accuracy: 0.9615 - val_loss: 0.3246\n",
            "Epoch 41/50\n",
            "7/7 - 2s - 300ms/step - accuracy: 0.8654 - loss: 0.3143 - val_accuracy: 0.8846 - val_loss: 0.2084\n",
            "Epoch 42/50\n",
            "7/7 - 2s - 304ms/step - accuracy: 0.9423 - loss: 0.1257 - val_accuracy: 0.9615 - val_loss: 0.0729\n",
            "Epoch 43/50\n",
            "7/7 - 2s - 308ms/step - accuracy: 0.8846 - loss: 0.3441 - val_accuracy: 1.0000 - val_loss: 0.0228\n",
            "Epoch 44/50\n",
            "\n",
            "for epoch 43 \n",
            "Accuracy has reach 100.00% training has been stopped\n",
            "7/7 - 2s - 301ms/step - accuracy: 1.0000 - loss: 0.0558 - val_accuracy: 1.0000 - val_loss: 0.0495\n"
          ]
        }
      ],
      "source": [
        "# latih model dengan model.fit\n",
        "\n",
        "history = model.fit(\n",
        "      validation_generator,\n",
        "      steps_per_epoch=None,  # berapa batch yang akan dieksekusi pada setiap epoch\n",
        "      epochs=50, # tambahkan epochs jika akurasi model belum optimal\n",
        "      validation_data=validation_generator, # menampilkan akurasi pengujian data validasi\n",
        "      validation_steps=None,\n",
        "      verbose=2,\n",
        "      callbacks=[my_callback()]) #Memanggil fungsi callback"
      ]
    },
    {
      "cell_type": "code",
      "execution_count": null,
      "metadata": {},
      "outputs": [],
      "source": [
        "model.save('tb_cnn_model.h5')"
      ]
    },
    {
      "cell_type": "code",
      "execution_count": 24,
      "metadata": {
        "colab": {
          "base_uri": "https://localhost:8080/",
          "height": 448
        },
        "id": "Zd9JmmyxBIaI",
        "outputId": "a71c5927-8672-49ec-9852-234b6219eebf"
      },
      "outputs": [
        {
          "data": {
            "text/plain": [
              "<matplotlib.legend.Legend at 0x1090cf550>"
            ]
          },
          "execution_count": 24,
          "metadata": {},
          "output_type": "execute_result"
        },
        {
          "data": {
            "image/png": "[encoded data removed]",
            "text/plain": [
              "<Figure size 640x480 with 1 Axes>"
            ]
          },
          "metadata": {},
          "output_type": "display_data"
        }
      ],
      "source": [
        "# showing image sample\n",
        "%matplotlib inline\n",
        "import matplotlib.pyplot as plt\n",
        "import matplotlib.image as mpig\n",
        "\n",
        "plt.title('Training and Validation Loss')\n",
        "plt.plot(history.history['loss'],label='Train')\n",
        "plt.plot(history.history['val_loss'],label='Validation')\n",
        "plt.legend()\n",
        "\n"
      ]
    },
    {
      "cell_type": "code",
      "execution_count": 26,
      "metadata": {
        "colab": {
          "base_uri": "https://localhost:8080/",
          "height": 448
        },
        "id": "5SCkV7-bC-D5",
        "outputId": "9e21afd1-1459-419b-a5e6-fad47f8d992f"
      },
      "outputs": [
        {
          "data": {
            "text/plain": [
              "<matplotlib.legend.Legend at 0x1092b0a10>"
            ]
          },
          "execution_count": 26,
          "metadata": {},
          "output_type": "execute_result"
        },
        {
          "data": {
            "image/png": "[encoded data removed]",
            "text/plain": [
              "<Figure size 640x480 with 1 Axes>"
            ]
          },
          "metadata": {},
          "output_type": "display_data"
        }
      ],
      "source": [
        "# showing image sample\n",
        "%matplotlib inline\n",
        "plt.title('Training and Validation Accuracy')\n",
        "plt.plot(history.history['accuracy'],label='Train')\n",
        "plt.plot(history.history['val_accuracy'],label='Validation')\n",
        "plt.legend()\n"
      ]
    },
    {
      "cell_type": "code",
      "execution_count": null,
      "metadata": {
        "id": "0KU1j5JMH4VL"
      },
      "outputs": [
        {
          "data": {
            "application/vnd.jupyter.widget-view+json": {
              "model_id": "6ec42ae8d1094015977c8dfe6cf905c2",
              "version_major": 2,
              "version_minor": 0
            },
            "text/plain": [
              "FileUpload(value=(), accept='image/*', description='Upload')"
            ]
          },
          "metadata": {},
          "output_type": "display_data"
        }
      ],
      "source": [
        "# Membuat widget untuk unggahan file\n",
        "upload_widget = widgets.FileUpload(accept='image/*', multiple=False)\n",
        "\n",
        "def on_upload_change(change):\n",
        "    # Mendapatkan file yang diunggah\n",
        "    uploaded_file = list(change['new'].values())[0]\n",
        "    content = uploaded_file['content']\n",
        "    \n",
        "    try:\n",
        "        # Memuat gambar dan mengubah ukuran\n",
        "        img = image.load_img(io.BytesIO(content), target_size=(150, 150))\n",
        "        print(\"Gambar berhasil dimuat dan diubah ukurannya.\")\n",
        "        \n",
        "        # Menampilkan gambar\n",
        "        plt.imshow(img)\n",
        "        plt.axis('off')\n",
        "        plt.show()\n",
        "\n",
        "        # Preprocessing gambar\n",
        "        x = image.img_to_array(img)\n",
        "        x = np.expand_dims(x, axis=0)\n",
        "        images = np.vstack([x])\n",
        "        print(\"Gambar berhasil diproses untuk prediksi.\")\n",
        "        \n",
        "        # Memprediksi kelas gambar\n",
        "        classes = model.predict(images, batch_size=8)\n",
        "        print(\"Prediksi berhasil dilakukan.\")\n",
        "        \n",
        "        print(uploaded_file['name'])\n",
        "        if classes[0][0] == 0:\n",
        "            print('Normal')\n",
        "        else:\n",
        "            print('Positif')\n",
        "    \n",
        "    except Exception as e:\n",
        "        print(f\"Terjadi kesalahan: {e}\")\n",
        "\n",
        "# Menyambungkan fungsi ke widget\n",
        "upload_widget.observe(on_upload_change, names='value')\n",
        "\n",
        "# Menampilkan widget\n",
        "display(upload_widget)"
      ]
    }
  ],
  "metadata": {
    "colab": {
      "provenance": []
    },
    "kernelspec": {
      "display_name": "Python 3",
      "name": "python3"
    },
    "language_info": {
      "codemirror_mode": {
        "name": "ipython",
        "version": 3
      },
      "file_extension": ".py",
      "mimetype": "text/x-python",
      "name": "python",
      "nbconvert_exporter": "python",
      "pygments_lexer": "ipython3",
      "version": "3.11.5"
    }
  },
  "nbformat": 4,
  "nbformat_minor": 0
}
